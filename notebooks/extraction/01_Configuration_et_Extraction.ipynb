{
 "cells": [
  {
   "cell_type": "markdown",
   "metadata": {},
   "source": [
    "## 1. Configuration initiale\n",
    "\n",
    "Importation des bibliothèques nécessaires et définition des chemins vers les fichiers sources."
   ]
  },
  {
   "cell_type": "code",
   "execution_count": null,
   "metadata": {},
   "outputs": [],
   "source": [
    "import os\n",
    "import pandas as pd\n",
    "import numpy as np\n",
    "import matplotlib.pyplot as plt\n",
    "import seaborn as sns\n",
    "from pathlib import Path\n",
    "\n",
    "# Configuration de la visualisation\n",
    "%matplotlib inline\n",
    "plt.style.use('ggplot')\n",
    "sns.set(style=\"whitegrid\")\n",
    "\n",
    "# Définition des chemins vers les fichiers sources\n",
    "chemin_base = Path().resolve().parent.parent if 'notebooks' in str(Path().resolve()) else Path().resolve().parent\n",
    "dossier_donnees_brutes = chemin_base / \"donnees\" / \"brutes\"\n",
    "dossier_donnees_intermediaires = chemin_base / \"donnees\" / \"intermediaires\"\n",
    "\n",
    "# Affichage des chemins\n",
    "print(f\"Dossier des données brutes: {dossier_donnees_brutes}\")\n",
    "print(f\"Dossier des données intermédiaires: {dossier_donnees_intermediaires}\")"
   ]
  },
  {
   "cell_type": "markdown",
   "metadata": {},
   "source": [
    "## 2. Extraction des données\n",
    "\n",
    "Chargement des fichiers CSV sources."
   ]
  },
  {
   "cell_type": "code",
   "execution_count": null,
   "metadata": {},
   "outputs": [],
   "source": [
    "# Définition des chemins vers les fichiers sources\n",
    "fichier_covid19 = dossier_donnees_brutes / \"covid_19_clean_complete.csv\"\n",
    "fichier_mpox = dossier_donnees_brutes / \"owid-monkeypox-data.csv\"\n",
    "fichier_worldometer = dossier_donnees_brutes / \"worldometer_coronavirus_daily_data.csv\"\n",
    "\n",
    "# Vérification de l'existence des fichiers\n",
    "fichiers = {\n",
    "    \"covid19\": fichier_covid19,\n",
    "    \"mpox\": fichier_mpox,\n",
    "    \"worldometer\": fichier_worldometer\n",
    "}\n",
    "\n",
    "for nom, chemin in fichiers.items():\n",
    "    if chemin.exists():\n",
    "        print(f\"Le fichier {nom} existe: {chemin}\")\n",
    "    else:\n",
    "        print(f\"ATTENTION: Le fichier {nom} n'existe pas: {chemin}\")"
   ]
  },
  {
   "cell_type": "code",
   "execution_count": null,
   "metadata": {},
   "outputs": [],
   "source": [
    "# Chargement des données\n",
    "print(\"Extraction des données en cours...\")\n",
    "\n",
    "donnees = {}\n",
    "\n",
    "try:\n",
    "    # Chargement des données COVID-19\n",
    "    if fichier_covid19.exists():\n",
    "        donnees[\"covid19\"] = pd.read_csv(fichier_covid19)\n",
    "        print(f\"Données COVID-19 extraites: {donnees['covid19'].shape[0]} lignes, {donnees['covid19'].shape[1]} colonnes\")\n",
    "    else:\n",
    "        print(f\"Impossible de charger les données COVID-19: fichier non trouvé\")\n",
    "    \n",
    "    # Chargement des données MPOX\n",
    "    if fichier_mpox.exists():\n",
    "        donnees[\"mpox\"] = pd.read_csv(fichier_mpox)\n",
    "        print(f\"Données MPOX extraites: {donnees['mpox'].shape[0]} lignes, {donnees['mpox'].shape[1]} colonnes\")\n",
    "    else:\n",
    "        print(f\"Impossible de charger les données MPOX: fichier non trouvé\")\n",
    "    \n",
    "    # Chargement des données Worldometer\n",
    "    if fichier_worldometer.exists():\n",
    "        donnees[\"worldometer\"] = pd.read_csv(fichier_worldometer)\n",
    "        print(f\"Données Worldometer extraites: {donnees['worldometer'].shape[0]} lignes, {donnees['worldometer'].shape[1]} colonnes\")\n",
    "    else:\n",
    "        print(f\"Impossible de charger les données Worldometer: fichier non trouvé\")\n",
    "    \n",
    "    print(\"\\nExtraction des données terminée avec succès!\")\n",
    "except Exception as e:\n",
    "    print(f\"Erreur lors de l'extraction des données: {e}\")"
   ]
  },
  {
   "cell_type": "markdown",
   "metadata": {},
   "source": [
    "## 3. Exploration des données extraites - COVID-19\n",
    "\n",
    "Affichage des informations sur les données COVID-19 extraites pour mieux comprendre leur structure."
   ]
  },
  {
   "cell_type": "code",
   "execution_count": null,
   "metadata": {},
   "outputs": [],
   "source": [
    "# Exploration des données COVID-19\n",
    "if \"covid19\" in donnees:\n",
    "    print(\"\\nDonnées COVID-19:\")\n",
    "    print(f\"Dimensions: {donnees['covid19'].shape[0]} lignes, {donnees['covid19'].shape[1]} colonnes\")\n",
    "    print(\"Colonnes:\")\n",
    "    for col in donnees['covid19'].columns:\n",
    "        print(f\"- {col}\")\n",
    "    print(\"\\nAperçu des données:\")\n",
    "    display(donnees['covid19'].head())\n",
    "    \n",
    "    # Vérification des valeurs manquantes\n",
    "    valeurs_manquantes = donnees['covid19'].isnull().sum()\n",
    "    print(\"\\nValeurs manquantes:\")\n",
    "    display(valeurs_manquantes[valeurs_manquantes > 0])\n",
    "    \n",
    "    # Statistiques descriptives\n",
    "    print(\"\\nStatistiques descriptives:\")\n",
    "    display(donnees['covid19'].describe())"
   ]
  },
  {
   "cell_type": "markdown",
   "metadata": {},
   "source": [
    "## 4. Exploration des données extraites - MPOX\n",
    "\n",
    "Affichage des informations sur les données MPOX extraites pour mieux comprendre leur structure."
   ]
  },
  {
   "cell_type": "code",
   "execution_count": null,
   "metadata": {},
   "outputs": [],
   "source": [
    "# Exploration des données MPOX\n",
    "if \"mpox\" in donnees:\n",
    "    print(\"\\nDonnées MPOX:\")\n",
    "    print(f\"Dimensions: {donnees['mpox'].shape[0]} lignes, {donnees['mpox'].shape[1]} colonnes\")\n",
    "    print(\"Colonnes:\")\n",
    "    for col in donnees['mpox'].columns:\n",
    "        print(f\"- {col}\")\n",
    "    print(\"\\nAperçu des données:\")\n",
    "    display(donnees['mpox'].head())\n",
    "    \n",
    "    # Vérification des valeurs manquantes\n",
    "    valeurs_manquantes = donnees['mpox'].isnull().sum()\n",
    "    print(\"\\nValeurs manquantes:\")\n",
    "    display(valeurs_manquantes[valeurs_manquantes > 0])\n",
    "    \n",
    "    # Statistiques descriptives\n",
    "    print(\"\\nStatistiques descriptives:\")\n",
    "    display(donnees['mpox'].describe())"
   ]
  },
  {
   "cell_type": "markdown",
   "metadata": {},
   "source": [
    "## 5. Exploration des données extraites - Worldometer\n",
    "\n",
    "Affichage des informations sur les données Worldometer extraites pour mieux comprendre leur structure."
   ]
  },
  {
   "cell_type": "code",
   "execution_count": null,
   "metadata": {},
   "outputs": [],
   "source": [
    "# Exploration des données Worldometer\n",
    "if \"worldometer\" in donnees:\n",
    "    print(\"\\nDonnées Worldometer:\")\n",
    "    print(f\"Dimensions: {donnees['worldometer'].shape[0]} lignes, {donnees['worldometer'].shape[1]} colonnes\")\n",
    "    print(\"Colonnes:\")\n",
    "    for col in donnees['worldometer'].columns:\n",
    "        print(f\"- {col}\")\n",
    "    print(\"\\nAperçu des données:\")\n",
    "    display(donnees['worldometer'].head())\n",
    "    \n",
    "    # Vérification des valeurs manquantes\n",
    "    valeurs_manquantes = donnees['worldometer'].isnull().sum()\n",
    "    print(\"\\nValeurs manquantes:\")\n",
    "    display(valeurs_manquantes[valeurs_manquantes > 0])\n",
    "    \n",
    "    # Statistiques descriptives\n",
    "    print(\"\\nStatistiques descriptives:\")\n",
    "    display(donnees['worldometer'].describe())"
   ]
  },
  {
   "cell_type": "markdown",
   "metadata": {},
   "source": [
    "## Sauvegarde des données extraites\n",
    "\n",
    "Sauvegarde des DataFrames dans des fichiers CSV intermédiaires pour l'étape de transformation."
   ]
  },
  {
   "cell_type": "code",
   "execution_count": null,
   "metadata": {},
   "outputs": [],
   "source": [
    "# Sauvegarde des données extraites\n",
    "print(\"Sauvegarde des données extraites...\")\n",
    "\n",
    "try:\n",
    "    for nom, df in donnees.items():\n",
    "        chemin_fichier = dossier_donnees_intermediaires / f\"{nom}_extrait.csv\"\n",
    "        df.to_csv(chemin_fichier, index=False)\n",
    "        print(f\"Données {nom} sauvegardées: {chemin_fichier}\")\n",
    "    \n",
    "    print(\"\\nSauvegarde des données terminée avec succès!\")\n",
    "except Exception as e:\n",
    "    print(f\"Erreur lors de la sauvegarde des données: {e}\")"
   ]
  }
 ],
 "metadata": {
  "kernelspec": {
   "display_name": "Python 3",
   "language": "python",
   "name": "python3"
  },
  "language_info": {
   "codemirror_mode": {
    "name": "ipython",
    "version": 3
   },
   "file_extension": ".py",
   "mimetype": "text/x-python",
   "name": "python",
   "nbconvert_exporter": "python",
   "pygments_lexer": "ipython3",
   "version": "3.12.4"
  }
 },
 "nbformat": 4,
 "nbformat_minor": 4
}
