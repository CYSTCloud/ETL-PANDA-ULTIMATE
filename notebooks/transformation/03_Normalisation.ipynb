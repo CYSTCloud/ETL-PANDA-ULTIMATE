{
 "cells": [
  {
   "cell_type": "markdown",
   "metadata": {},
   "source": [
    "# Transformation des données de pandémies - Partie 3: Normalisation\n",
    "\n",
    "Ce notebook réalise la normalisation des données agrégées pour les préparer au chargement dans la base de données MySQL."
   ]
  },
  {
   "cell_type": "markdown",
   "metadata": {},
   "source": [
    "## 1. Configuration initiale\n",
    "\n",
    "Importation des bibliothèques nécessaires et chargement des données agrégées."
   ]
  },
  {
   "cell_type": "code",
   "execution_count": null,
   "metadata": {},
   "outputs": [],
   "source": [
    "import os\n",
    "import pandas as pd\n",
    "import numpy as np\n",
    "import matplotlib.pyplot as plt\n",
    "import seaborn as sns\n",
    "from pathlib import Path\n",
    "from datetime import datetime\n",
    "\n",
    "# Configuration de la visualisation\n",
    "%matplotlib inline\n",
    "plt.style.use('ggplot')\n",
    "sns.set(style=\"whitegrid\")\n",
    "\n",
    "# Définition des chemins vers les fichiers sources\n",
    "chemin_base = Path().resolve().parent.parent if 'notebooks' in str(Path().resolve()) else Path().resolve().parent\n",
    "dossier_donnees_transformees = chemin_base / \"donnees\" / \"transformees\"\n",
    "\n",
    "# Affichage du chemin\n",
    "print(f\"Dossier des données transformées: {dossier_donnees_transformees}\")"
   ]
  },
  {
   "cell_type": "code",
   "execution_count": null,
   "metadata": {},
   "outputs": [],
   "source": [
    "# Chargement des données agrégées\n",
    "print(\"Chargement des données agrégées...\")\n",
    "\n",
    "try:\n",
    "    # Chargement du jeu de données final\n",
    "    fichier_donnees_final = dossier_donnees_transformees / \"donnees_final.csv\"\n",
    "    if fichier_donnees_final.exists():\n",
    "        donnees_final = pd.read_csv(fichier_donnees_final, parse_dates=[\"date\"])\n",
    "        print(f\"Jeu de données final chargé: {donnees_final.shape[0]} lignes, {donnees_final.shape[1]} colonnes\")\n",
    "        print(\"\\nAperçu du jeu de données final:\")\n",
    "        display(donnees_final.head())\n",
    "    else:\n",
    "        print(f\"Impossible de charger le jeu de données final: fichier non trouvé\")\n",
    "    \n",
    "    print(\"\\nChargement des données agrégées terminé avec succès!\")\n",
    "except Exception as e:\n",
    "    print(f\"Erreur lors du chargement des données agrégées: {e}\")"
   ]
  },
  {
   "cell_type": "markdown",
   "metadata": {},
   "source": [
    "## 2. Création de la table calendrier\n",
    "\n",
    "Création de la table calendrier à partir des dates présentes dans le jeu de données final."
   ]
  },
  {
   "cell_type": "code",
   "execution_count": null,
   "metadata": {},
   "outputs": [],
   "source": [
    "# Création de la table calendrier\n",
    "print(\"Création de la table calendrier...\")\n",
    "\n",
    "try:\n",
    "    # Extraction des dates uniques\n",
    "    dates_uniques = donnees_final[\"date\"].unique()\n",
    "    print(f\"Nombre de dates uniques: {len(dates_uniques)}\")\n",
    "    \n",
    "    # Création de la table calendrier\n",
    "    calendrier = pd.DataFrame({\n",
    "        \"id_date\": range(1, len(dates_uniques) + 1),\n",
    "        \"date\": sorted(dates_uniques),\n",
    "    })\n",
    "    \n",
    "    # Ajout des colonnes jour, mois, année\n",
    "    calendrier[\"jour\"] = calendrier[\"date\"].dt.day\n",
    "    calendrier[\"mois\"] = calendrier[\"date\"].dt.month\n",
    "    calendrier[\"annee\"] = calendrier[\"date\"].dt.year\n",
    "    \n",
    "    # Affichage de la table calendrier\n",
    "    print(f\"Table calendrier créée: {calendrier.shape[0]} lignes, {calendrier.shape[1]} colonnes\")\n",
    "    print(\"\\nAperçu de la table calendrier:\")\n",
    "    display(calendrier.head())\n",
    "    \n",
    "    print(\"Création de la table calendrier terminée avec succès!\")\n",
    "except Exception as e:\n",
    "    print(f\"Erreur lors de la création de la table calendrier: {e}\")"
   ]
  },
  {
   "cell_type": "markdown",
   "metadata": {},
   "source": [
    "## 3. Création de la table localisation\n",
    "\n",
    "Création de la table localisation à partir des pays présents dans le jeu de données final."
   ]
  },
  {
   "cell_type": "code",
   "execution_count": null,
   "metadata": {},
   "outputs": [],
   "source": [
    "# Création de la table localisation\n",
    "print(\"Création de la table localisation...\")\n",
    "\n",
    "try:\n",
    "    # Extraction des pays uniques\n",
    "    pays_uniques = donnees_final[\"pays\"].unique()\n",
    "    print(f\"Nombre de pays uniques: {len(pays_uniques)}\")\n",
    "    \n",
    "    # Création de la table localisation\n",
    "    localisation = pd.DataFrame({\n",
    "        \"id_localisation\": range(1, len(pays_uniques) + 1),\n",
    "        \"pays\": sorted(pays_uniques),\n",
    "    })\n",
    "    \n",
    "    # Ajout de la colonne continent (à compléter manuellement ou avec une API)\n",
    "    localisation[\"continent\"] = np.nan\n",
    "    \n",
    "    # Affichage de la table localisation\n",
    "    print(f\"Table localisation créée: {localisation.shape[0]} lignes, {localisation.shape[1]} colonnes\")\n",
    "    print(\"\\nAperçu de la table localisation:\")\n",
    "    display(localisation.head())\n",
    "    \n",
    "    print(\"Création de la table localisation terminée avec succès!\")\n",
    "except Exception as e:\n",
    "    print(f\"Erreur lors de la création de la table localisation: {e}\")"
   ]
  },
  {
   "cell_type": "markdown",
   "metadata": {},
   "source": [
    "## 4. Création de la table pandemie\n",
    "\n",
    "Création de la table pandemie à partir des types de pandémies présents dans le jeu de données final."
   ]
  },
  {
   "cell_type": "code",
   "execution_count": null,
   "metadata": {},
   "outputs": [],
   "source": [
    "# Création de la table pandemie\n",
    "print(\"Création de la table pandemie...\")\n",
    "\n",
    "try:\n",
    "    # Extraction des types de pandémies uniques\n",
    "    pandemies_uniques = donnees_final[\"type_pandemie\"].unique()\n",
    "    print(f\"Nombre de types de pandémies uniques: {len(pandemies_uniques)}\")\n",
    "    \n",
    "    # Création de la table pandemie\n",
    "    pandemie = pd.DataFrame({\n",
    "        \"id_pandemie\": range(1, len(pandemies_uniques) + 1),\n",
    "        \"nom_pandemie\": sorted(pandemies_uniques),\n",
    "    })\n",
    "    \n",
    "    # Ajout des colonnes description et date_debut\n",
    "    descriptions = {\n",
    "        \"COVID-19\": \"Maladie à coronavirus 2019 causée par le SARS-CoV-2\",\n",
    "        \"MPOX\": \"Maladie virale causée par le virus de la variole du singe (MPXV)\"\n",
    "    }\n",
    "    dates_debut = {\n",
    "        \"COVID-19\": \"2019-12-01\",\n",
    "        \"MPOX\": \"2022-05-01\"\n",
    "    }\n",
    "    \n",
    "    pandemie[\"description\"] = pandemie[\"nom_pandemie\"].map(descriptions)\n",
    "    pandemie[\"date_debut\"] = pandemie[\"nom_pandemie\"].map(dates_debut)\n",
    "    \n",
    "    # Affichage de la table pandemie\n",
    "    print(f\"Table pandemie créée: {pandemie.shape[0]} lignes, {pandemie.shape[1]} colonnes\")\n",
    "    print(\"\\nAperçu de la table pandemie:\")\n",
    "    display(pandemie)\n",
    "    \n",
    "    print(\"Création de la table pandemie terminée avec succès!\")\n",
    "except Exception as e:\n",
    "    print(f\"Erreur lors de la création de la table pandemie: {e}\")"
   ]
  },
  {
   "cell_type": "markdown",
   "metadata": {},
   "source": [
    "## 5. Création de la table donnees\n",
    "\n",
    "Création de la table donnees à partir du jeu de données final et des tables de référence."
   ]
  },
  {
   "cell_type": "code",
   "execution_count": null,
   "metadata": {},
   "outputs": [],
   "source": [
    "# Création de la table donnees\n",
    "print(\"Création de la table donnees...\")\n",
    "\n",
    "try:\n",
    "    # Copie du jeu de données final\n",
    "    donnees_df = donnees_final.copy()\n",
    "    \n",
    "    # Création d'un dictionnaire de correspondance pour les dates\n",
    "    dict_dates = dict(zip(calendrier[\"date\"], calendrier[\"id_date\"]))\n",
    "    \n",
    "    # Création d'un dictionnaire de correspondance pour les pays\n",
    "    dict_pays = dict(zip(localisation[\"pays\"], localisation[\"id_localisation\"]))\n",
    "    \n",
    "    # Création d'un dictionnaire de correspondance pour les pandémies\n",
    "    dict_pandemies = dict(zip(pandemie[\"nom_pandemie\"], pandemie[\"id_pandemie\"]))\n",
    "    \n",
    "    # Remplacement des valeurs par les clés étrangères\n",
    "    donnees_df[\"id_date\"] = donnees_df[\"date\"].map(dict_dates)\n",
    "    donnees_df[\"id_localisation\"] = donnees_df[\"pays\"].map(dict_pays)\n",
    "    donnees_df[\"id_pandemie\"] = donnees_df[\"type_pandemie\"].map(dict_pandemies)\n",
    "    \n",
    "    # Sélection des colonnes pertinentes\n",
    "    donnees_df = donnees_df[[\n",
    "        \"id_date\", \"id_localisation\", \"id_pandemie\", \"cas_confirmes\", \"deces\"\n",
    "    ]]\n",
    "    \n",
    "    # Ajout d'un identifiant unique\n",
    "    donnees_df.insert(0, \"id_donnees\", range(1, len(donnees_df) + 1))\n",
    "    \n",
    "    # Affichage de la table donnees\n",
    "    print(f\"Table donnees créée: {donnees_df.shape[0]} lignes, {donnees_df.shape[1]} colonnes\")\n",
    "    print(\"\\nAperçu de la table donnees:\")\n",
    "    display(donnees_df.head())\n",
    "    \n",
    "    print(\"Création de la table donnees terminée avec succès!\")\n",
    "except Exception as e:\n",
    "    print(f\"Erreur lors de la création de la table donnees: {e}\")"
   ]
  },
  {
   "cell_type": "markdown",
   "metadata": {},
   "source": [
    "## 6. Sauvegarde des tables normalisées\n",
    "\n",
    "Sauvegarde des tables normalisées pour l'étape de chargement."
   ]
  },
  {
   "cell_type": "code",
   "execution_count": null,
   "metadata": {},
   "outputs": [],
   "source": [
    "# Sauvegarde des tables normalisées\n",
    "print(\"Sauvegarde des tables normalisées...\")\n",
    "\n",
    "try:\n",
    "    # Sauvegarde de la table calendrier\n",
    "    chemin_fichier = dossier_donnees_transformees / \"calendrier.csv\"\n",
    "    calendrier.to_csv(chemin_fichier, index=False)\n",
    "    print(f\"Table calendrier sauvegardée: {chemin_fichier}\")\n",
    "    \n",
    "    # Sauvegarde de la table localisation\n",
    "    chemin_fichier = dossier_donnees_transformees / \"localisation.csv\"\n",
    "    localisation.to_csv(chemin_fichier, index=False)\n",
    "    print(f\"Table localisation sauvegardée: {chemin_fichier}\")\n",
    "    \n",
    "    # Sauvegarde de la table pandemie\n",
    "    chemin_fichier = dossier_donnees_transformees / \"pandemie.csv\"\n",
    "    pandemie.to_csv(chemin_fichier, index=False)\n",
    "    print(f\"Table pandemie sauvegardée: {chemin_fichier}\")\n",
    "    \n",
    "    # Sauvegarde de la table donnees\n",
    "    chemin_fichier = dossier_donnees_transformees / \"donnees.csv\"\n",
    "    donnees_df.to_csv(chemin_fichier, index=False)\n",
    "    print(f\"Table donnees sauvegardée: {chemin_fichier}\")\n",
    "    \n",
    "    print(\"\\nSauvegarde des tables normalisées terminée avec succès!\")\n",
    "except Exception as e:\n",
    "    print(f\"Erreur lors de la sauvegarde des tables normalisées: {e}\")"
   ]
  },
  {
   "cell_type": "markdown",
   "metadata": {},
   "source": [
    "## Conclusion\n",
    "\n",
    "Dans ce notebook, nous avons réalisé la normalisation des données agrégées pour les préparer au chargement dans la base de données MySQL. Les principales opérations ont été :\n",
    "\n",
    "1. Création de la table calendrier à partir des dates présentes dans le jeu de données final\n",
    "2. Création de la table localisation à partir des pays présents dans le jeu de données final\n",
    "3. Création de la table pandemie à partir des types de pandémies présents dans le jeu de données final\n",
    "4. Création de la table donnees à partir du jeu de données final et des tables de référence\n",
    "5. Sauvegarde des tables normalisées pour l'étape de chargement\n",
    "\n",
    "Les tables normalisées ont été sauvegardées dans des fichiers CSV pour l'étape de chargement, qui sera réalisée dans les notebooks de chargement."
   ]
  }
 ],
 "metadata": {
  "kernelspec": {
   "display_name": "Python 3",
   "language": "python",
   "name": "python3"
  },
  "language_info": {
   "codemirror_mode": {
    "name": "ipython",
    "version": 3
   },
   "file_extension": ".py",
   "mimetype": "text/x-python",
   "name": "python",
   "nbconvert_exporter": "python",
   "pygments_lexer": "ipython3",
   "version": "3.8.10"
  }
 },
 "nbformat": 4,
 "nbformat_minor": 4
}
