{
 "cells": [
  {
   "cell_type": "markdown",
   "metadata": {},
   "source": [
    "# Chargement des données de pandémies - Partie 1: Configuration MySQL\n",
    "\n",
    "Ce notebook réalise la configuration de la connexion à la base de données MySQL et la préparation du schéma de la base de données."
   ]
  },
  {
   "cell_type": "markdown",
   "metadata": {},
   "source": [
    "## 1. Configuration initiale\n",
    "\n",
    "Importation des bibliothèques nécessaires et définition des paramètres de connexion à la base de données."
   ]
  },
  {
   "cell_type": "code",
   "execution_count": null,
   "metadata": {},
   "outputs": [],
   "source": [
    "import os\n",
    "import pandas as pd\n",
    "import numpy as np\n",
    "import mysql.connector\n",
    "from mysql.connector import Error\n",
    "from pathlib import Path\n",
    "import time\n",
    "\n",
    "# Définition des chemins vers les fichiers sources\n",
    "chemin_base = Path().resolve().parent.parent if 'notebooks' in str(Path().resolve()) else Path().resolve().parent\n",
    "dossier_donnees_transformees = chemin_base / \"donnees\" / \"transformees\"\n",
    "\n",
    "# Affichage du chemin\n",
    "print(f\"Dossier des données transformées: {dossier_donnees_transformees}\")"
   ]
  },
  {
   "cell_type": "markdown",
   "metadata": {},
   "source": [
    "## 2. Configuration de la connexion à la base de données\n",
    "\n",
    "Définition des paramètres de connexion à la base de données MySQL."
   ]
  },
  {
   "cell_type": "code",
   "execution_count": null,
   "metadata": {},
   "outputs": [],
   "source": [
    "# Paramètres de connexion à la base de données\n",
    "config_db = {\n",
    "    \"host\": \"localhost\",\n",
    "    \"user\": \"root\",\n",
    "    \"password\": \"\",  # Laisser vide si aucun mot de passe\n",
    "    \"database\": \"epiviz\",\n",
    "    \"port\": 3306\n",
    "}\n",
    "\n",
    "print(\"Paramètres de connexion à la base de données:\")\n",
    "for cle, valeur in config_db.items():\n",
    "    if cle != \"password\":\n",
    "        print(f\"- {cle}: {valeur}\")\n",
    "    else:\n",
    "        print(f\"- {cle}: {'(aucun)' if valeur == '' else '******'}\")"
   ]
  },
  {
   "cell_type": "markdown",
   "metadata": {},
   "source": [
    "## 3. Fonction de connexion à la base de données\n",
    "\n",
    "Définition d'une fonction pour établir une connexion à la base de données MySQL."
   ]
  },
  {
   "cell_type": "code",
   "execution_count": null,
   "metadata": {},
   "outputs": [],
   "source": [
    "def connecter_mysql(config=None, creer_db=False):\n",
    "    \"\"\"\n",
    "    Établit une connexion à la base de données MySQL.\n",
    "    \n",
    "    Args:\n",
    "        config (dict): Dictionnaire contenant les paramètres de connexion.\n",
    "        creer_db (bool): Si True, crée la base de données si elle n'existe pas.\n",
    "        \n",
    "    Returns:\n",
    "        tuple: (connexion, curseur) si la connexion est établie, (None, None) sinon.\n",
    "    \"\"\"\n",
    "    if config is None:\n",
    "        config = config_db.copy()\n",
    "    \n",
    "    try:\n",
    "        # Si on veut créer la base de données, on se connecte sans spécifier la base de données\n",
    "        if creer_db:\n",
    "            config_sans_db = config.copy()\n",
    "            database = config_sans_db.pop(\"database\", None)\n",
    "            connexion = mysql.connector.connect(**config_sans_db)\n",
    "            curseur = connexion.cursor()\n",
    "            \n",
    "            # Création de la base de données si elle n'existe pas\n",
    "            curseur.execute(f\"CREATE DATABASE IF NOT EXISTS {database}\")\n",
    "            curseur.execute(f\"USE {database}\")\n",
    "            print(f\"Base de données '{database}' créée ou sélectionnée avec succès.\")\n",
    "        else:\n",
    "            # Connexion à la base de données existante\n",
    "            connexion = mysql.connector.connect(**config)\n",
    "            curseur = connexion.cursor()\n",
    "            print(f\"Connexion à la base de données '{config['database']}' établie avec succès.\")\n",
    "        \n",
    "        return connexion, curseur\n",
    "    \n",
    "    except Error as e:\n",
    "        print(f\"Erreur lors de la connexion à la base de données: {e}\")\n",
    "        return None, None"
   ]
  },
  {
   "cell_type": "markdown",
   "metadata": {},
   "source": [
    "## 4. Test de la connexion à la base de données\n",
    "\n",
    "Test de la connexion à la base de données MySQL."
   ]
  },
  {
   "cell_type": "code",
   "execution_count": null,
   "metadata": {},
   "outputs": [],
   "source": [
    "# Test de la connexion à la base de données\n",
    "print(\"Test de la connexion à la base de données...\")\n",
    "\n",
    "try:\n",
    "    # Connexion à la base de données\n",
    "    connexion, curseur = connecter_mysql(creer_db=True)\n",
    "    \n",
    "    if connexion is not None and curseur is not None:\n",
    "        # Vérification de la version de MySQL\n",
    "        curseur.execute(\"SELECT VERSION()\")\n",
    "        version = curseur.fetchone()\n",
    "        print(f\"Version de MySQL: {version[0]}\")\n",
    "        \n",
    "        # Fermeture de la connexion\n",
    "        curseur.close()\n",
    "        connexion.close()\n",
    "        print(\"Connexion fermée.\")\n",
    "    else:\n",
    "        print(\"Impossible d'établir une connexion à la base de données.\")\n",
    "except Exception as e:\n",
    "    print(f\"Erreur lors du test de la connexion à la base de données: {e}\")"
   ]
  },
  {
   "cell_type": "markdown",
   "metadata": {},
   "source": [
    "## 5. Définition du schéma de la base de données\n",
    "\n",
    "Définition des requêtes SQL pour créer les tables de la base de données."
   ]
  },
  {
   "cell_type": "code",
   "execution_count": null,
   "metadata": {},
   "outputs": [],
   "source": [
    "# Définition des requêtes SQL pour créer les tables\n",
    "requetes_creation_tables = {\n",
    "    \"calendrier\": \"\"\"\n",
    "    CREATE TABLE IF NOT EXISTS calendrier (\n",
    "        id_date INT PRIMARY KEY,\n",
    "        date DATE NOT NULL,\n",
    "        jour INT NOT NULL,\n",
    "        mois INT NOT NULL,\n",
    "        annee INT NOT NULL\n",
    "    ) ENGINE=InnoDB;\n",
    "    \"\"\",\n",
    "    \n",
    "    \"localisation\": \"\"\"\n",
    "    CREATE TABLE IF NOT EXISTS localisation (\n",
    "        id_localisation INT PRIMARY KEY,\n",
    "        pays VARCHAR(100) NOT NULL,\n",
    "        continent VARCHAR(50)\n",
    "    ) ENGINE=InnoDB;\n",
    "    \"\"\",\n",
    "    \n",
    "    \"pandemie\": \"\"\"\n",
    "    CREATE TABLE IF NOT EXISTS pandemie (\n",
    "        id_pandemie INT PRIMARY KEY,\n",
    "        nom_pandemie VARCHAR(50) NOT NULL,\n",
    "        description TEXT,\n",
    "        date_debut DATE\n",
    "    ) ENGINE=InnoDB;\n",
    "    \"\"\",\n",
    "    \n",
    "    \"donnees\": \"\"\"\n",
    "    CREATE TABLE IF NOT EXISTS donnees (\n",
    "        id_donnees INT PRIMARY KEY,\n",
    "        id_date INT NOT NULL,\n",
    "        id_localisation INT NOT NULL,\n",
    "        id_pandemie INT NOT NULL,\n",
    "        cas_confirmes INT NOT NULL,\n",
    "        deces INT NOT NULL,\n",
    "        FOREIGN KEY (id_date) REFERENCES calendrier(id_date),\n",
    "        FOREIGN KEY (id_localisation) REFERENCES localisation(id_localisation),\n",
    "        FOREIGN KEY (id_pandemie) REFERENCES pandemie(id_pandemie)\n",
    "    ) ENGINE=InnoDB;\n",
    "    \"\"\"\n",
    "}\n",
    "\n",
    "# Affichage des requêtes SQL\n",
    "print(\"Requêtes SQL pour créer les tables:\")\n",
    "for table, requete in requetes_creation_tables.items():\n",
    "    print(f\"\\n--- Table {table} ---\")\n",
    "    print(requete)"
   ]
  },
  {
   "cell_type": "markdown",
   "metadata": {},
   "source": [
    "## 6. Création des tables dans la base de données\n",
    "\n",
    "Création des tables dans la base de données MySQL."
   ]
  },
  {
   "cell_type": "code",
   "execution_count": null,
   "metadata": {},
   "outputs": [],
   "source": [
    "# Création des tables dans la base de données\n",
    "print(\"Création des tables dans la base de données...\")\n",
    "\n",
    "try:\n",
    "    # Connexion à la base de données\n",
    "    connexion, curseur = connecter_mysql(creer_db=True)\n",
    "    \n",
    "    if connexion is not None and curseur is not None:\n",
    "        # Désactivation temporaire des contraintes de clé étrangère\n",
    "        curseur.execute(\"SET FOREIGN_KEY_CHECKS = 0;\")\n",
    "        \n",
    "        # Création des tables\n",
    "        for table, requete in requetes_creation_tables.items():\n",
    "            print(f\"Création de la table {table}...\")\n",
    "            curseur.execute(requete)\n",
    "            print(f\"Table {table} créée avec succès.\")\n",
    "        \n",
    "        # Réactivation des contraintes de clé étrangère\n",
    "        curseur.execute(\"SET FOREIGN_KEY_CHECKS = 1;\")\n",
    "        \n",
    "        # Validation des modifications\n",
    "        connexion.commit()\n",
    "        print(\"\\nToutes les tables ont été créées avec succès.\")\n",
    "        \n",
    "        # Fermeture de la connexion\n",
    "        curseur.close()\n",
    "        connexion.close()\n",
    "        print(\"Connexion fermée.\")\n",
    "    else:\n",
    "        print(\"Impossible d'établir une connexion à la base de données.\")\n",
    "except Exception as e:\n",
    "    print(f\"Erreur lors de la création des tables: {e}\")"
   ]
  },
  {
   "cell_type": "markdown",
   "metadata": {},
   "source": [
    "## 7. Vérification des tables créées\n",
    "\n",
    "Vérification des tables créées dans la base de données MySQL."
   ]
  },
  {
   "cell_type": "code",
   "execution_count": null,
   "metadata": {},
   "outputs": [],
   "source": [
    "# Vérification des tables créées\n",
    "print(\"Vérification des tables créées...\")\n",
    "\n",
    "try:\n",
    "    # Connexion à la base de données\n",
    "    connexion, curseur = connecter_mysql()\n",
    "    \n",
    "    if connexion is not None and curseur is not None:\n",
    "        # Récupération de la liste des tables\n",
    "        curseur.execute(\"SHOW TABLES;\")\n",
    "        tables = curseur.fetchall()\n",
    "        \n",
    "        print(f\"Tables dans la base de données '{config_db['database']}':\")\n",
    "        for table in tables:\n",
    "            print(f\"- {table[0]}\")\n",
    "        \n",
    "        # Vérification de la structure des tables\n",
    "        for table in [table[0] for table in tables]:\n",
    "            print(f\"\\nStructure de la table {table}:\")\n",
    "            curseur.execute(f\"DESCRIBE {table};\")\n",
    "            colonnes = curseur.fetchall()\n",
    "            for colonne in colonnes:\n",
    "                print(f\"- {colonne[0]}: {colonne[1]}\")\n",
    "        \n",
    "        # Fermeture de la connexion\n",
    "        curseur.close()\n",
    "        connexion.close()\n",
    "        print(\"\\nConnexion fermée.\")\n",
    "    else:\n",
    "        print(\"Impossible d'établir une connexion à la base de données.\")\n",
    "except Exception as e:\n",
    "    print(f\"Erreur lors de la vérification des tables: {e}\")"
   ]
  },
  {
   "cell_type": "markdown",
   "metadata": {},
   "source": [
    "## Conclusion\n",
    "\n",
    "Dans ce notebook, nous avons réalisé la configuration de la connexion à la base de données MySQL et la préparation du schéma de la base de données. Les principales opérations ont été :\n",
    "\n",
    "1. Configuration des paramètres de connexion à la base de données\n",
    "2. Test de la connexion à la base de données\n",
    "3. Définition du schéma de la base de données\n",
    "4. Création des tables dans la base de données\n",
    "5. Vérification des tables créées\n",
    "\n",
    "La base de données est maintenant prête à recevoir les données transformées. La prochaine étape consiste à charger les données dans la base de données, ce qui sera réalisé dans le prochain notebook."
   ]
  }
 ],
 "metadata": {
  "kernelspec": {
   "display_name": "Python 3",
   "language": "python",
   "name": "python3"
  },
  "language_info": {
   "codemirror_mode": {
    "name": "ipython",
    "version": 3
   },
   "file_extension": ".py",
   "mimetype": "text/x-python",
   "name": "python",
   "nbconvert_exporter": "python",
   "pygments_lexer": "ipython3",
   "version": "3.8.10"
  }
 },
 "nbformat": 4,
 "nbformat_minor": 4
}
