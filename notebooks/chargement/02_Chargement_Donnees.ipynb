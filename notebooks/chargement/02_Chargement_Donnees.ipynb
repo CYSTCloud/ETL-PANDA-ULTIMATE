{
 "cells": [
  {
   "cell_type": "markdown",
   "metadata": {},
   "source": [
    "# Chargement des données de pandémies - Partie 2: Chargement des données\n",
    "\n",
    "Ce notebook réalise le chargement des données transformées dans la base de données MySQL."
   ]
  },
  {
   "cell_type": "markdown",
   "metadata": {},
   "source": [
    "## 1. Configuration initiale\n",
    "\n",
    "Importation des bibliothèques nécessaires et définition des paramètres de connexion à la base de données."
   ]
  },
  {
   "cell_type": "code",
   "execution_count": 17,
   "metadata": {},
   "outputs": [
    {
     "name": "stdout",
     "output_type": "stream",
     "text": [
      "Dossier des données transformées: C:\\Users\\Saint\\IdeaProjects\\ETL_Simple_Project\\ETL_Projet_Pandemies\\donnees\\transformees\n"
     ]
    }
   ],
   "source": [
    "import os\n",
    "import pandas as pd\n",
    "import numpy as np\n",
    "import mysql.connector\n",
    "from mysql.connector import Error\n",
    "from pathlib import Path\n",
    "import time\n",
    "\n",
    "# Définition des chemins vers les fichiers sources\n",
    "chemin_base = Path().resolve().parent.parent if 'notebooks' in str(Path().resolve()) else Path().resolve().parent\n",
    "dossier_donnees_transformees = chemin_base / \"donnees\" / \"transformees\"\n",
    "\n",
    "# Affichage du chemin\n",
    "print(f\"Dossier des données transformées: {dossier_donnees_transformees}\")"
   ]
  },
  {
   "cell_type": "markdown",
   "metadata": {},
   "source": [
    "## 2. Configuration de la connexion à la base de données\n",
    "\n",
    "Définition des paramètres de connexion à la base de données MySQL."
   ]
  },
  {
   "cell_type": "code",
   "execution_count": 18,
   "metadata": {},
   "outputs": [
    {
     "name": "stdout",
     "output_type": "stream",
     "text": [
      "Paramètres de connexion à la base de données:\n",
      "- host: localhost\n",
      "- user: root\n",
      "- password: (aucun)\n",
      "- database: epiviz\n",
      "- port: 3306\n"
     ]
    }
   ],
   "source": [
    "# Paramètres de connexion à la base de données\n",
    "config_db = {\n",
    "    \"host\": \"localhost\",\n",
    "    \"user\": \"root\",\n",
    "    \"password\": \"\",  # Laisser vide si aucun mot de passe\n",
    "    \"database\": \"epiviz\",\n",
    "    \"port\": 3306\n",
    "}\n",
    "\n",
    "print(\"Paramètres de connexion à la base de données:\")\n",
    "for cle, valeur in config_db.items():\n",
    "    if cle != \"password\":\n",
    "        print(f\"- {cle}: {valeur}\")\n",
    "    else:\n",
    "        print(f\"- {cle}: {'(aucun)' if valeur == '' else '******'}\")"
   ]
  },
  {
   "cell_type": "markdown",
   "metadata": {},
   "source": [
    "## 3. Fonction de connexion à la base de données\n",
    "\n",
    "Définition d'une fonction pour établir une connexion à la base de données MySQL."
   ]
  },
  {
   "cell_type": "code",
   "execution_count": 19,
   "metadata": {},
   "outputs": [],
   "source": [
    "def connecter_mysql(config=None):\n",
    "    \"\"\"\n",
    "    Établit une connexion à la base de données MySQL.\n",
    "    \n",
    "    Args:\n",
    "        config (dict): Dictionnaire contenant les paramètres de connexion.\n",
    "        \n",
    "    Returns:\n",
    "        tuple: (connexion, curseur) si la connexion est établie, (None, None) sinon.\n",
    "    \"\"\"\n",
    "    if config is None:\n",
    "        config = config_db.copy()\n",
    "    \n",
    "    try:\n",
    "        # Connexion à la base de données\n",
    "        connexion = mysql.connector.connect(**config)\n",
    "        curseur = connexion.cursor()\n",
    "        print(f\"Connexion à la base de données '{config['database']}' établie avec succès.\")\n",
    "        return connexion, curseur\n",
    "    \n",
    "    except Error as e:\n",
    "        print(f\"Erreur lors de la connexion à la base de données: {e}\")\n",
    "        return None, None"
   ]
  },
  {
   "cell_type": "markdown",
   "metadata": {},
   "source": [
    "## 4. Chargement des données transformées\n",
    "\n",
    "Chargement des données transformées depuis les fichiers CSV."
   ]
  },
  {
   "cell_type": "code",
   "execution_count": 20,
   "metadata": {},
   "outputs": [
    {
     "name": "stdout",
     "output_type": "stream",
     "text": [
      "Chargement des données transformées...\n",
      "Table calendrier chargée: 1204 lignes, 5 colonnes\n",
      "Table localisation chargée: 260 lignes, 3 colonnes\n",
      "Table pandemie chargée: 2 lignes, 4 colonnes\n",
      "Table donnees chargée: 226525 lignes, 6 colonnes\n",
      "\n",
      "Chargement des données transformées terminé avec succès!\n"
     ]
    }
   ],
   "source": [
    "# Chargement des données transformées\n",
    "print(\"Chargement des données transformées...\")\n",
    "\n",
    "tables = {}\n",
    "\n",
    "try:\n",
    "    # Chargement de la table calendrier\n",
    "    fichier_calendrier = dossier_donnees_transformees / \"calendrier.csv\"\n",
    "    if fichier_calendrier.exists():\n",
    "        tables[\"calendrier\"] = pd.read_csv(fichier_calendrier, parse_dates=[\"date\"])\n",
    "        print(f\"Table calendrier chargée: {tables['calendrier'].shape[0]} lignes, {tables['calendrier'].shape[1]} colonnes\")\n",
    "    else:\n",
    "        print(f\"Impossible de charger la table calendrier: fichier non trouvé\")\n",
    "    \n",
    "    # Chargement de la table localisation\n",
    "    fichier_localisation = dossier_donnees_transformees / \"localisation.csv\"\n",
    "    if fichier_localisation.exists():\n",
    "        tables[\"localisation\"] = pd.read_csv(fichier_localisation)\n",
    "        print(f\"Table localisation chargée: {tables['localisation'].shape[0]} lignes, {tables['localisation'].shape[1]} colonnes\")\n",
    "    else:\n",
    "        print(f\"Impossible de charger la table localisation: fichier non trouvé\")\n",
    "    \n",
    "    # Chargement de la table pandemie\n",
    "    fichier_pandemie = dossier_donnees_transformees / \"pandemie.csv\"\n",
    "    if fichier_pandemie.exists():\n",
    "        tables[\"pandemie\"] = pd.read_csv(fichier_pandemie, parse_dates=[\"date_debut\"])\n",
    "        print(f\"Table pandemie chargée: {tables['pandemie'].shape[0]} lignes, {tables['pandemie'].shape[1]} colonnes\")\n",
    "    else:\n",
    "        print(f\"Impossible de charger la table pandemie: fichier non trouvé\")\n",
    "    \n",
    "    # Chargement de la table donnees\n",
    "    fichier_donnees = dossier_donnees_transformees / \"donnees.csv\"\n",
    "    if fichier_donnees.exists():\n",
    "        tables[\"donnees\"] = pd.read_csv(fichier_donnees)\n",
    "        print(f\"Table donnees chargée: {tables['donnees'].shape[0]} lignes, {tables['donnees'].shape[1]} colonnes\")\n",
    "    else:\n",
    "        print(f\"Impossible de charger la table donnees: fichier non trouvé\")\n",
    "    \n",
    "    print(\"\\nChargement des données transformées terminé avec succès!\")\n",
    "except Exception as e:\n",
    "    print(f\"Erreur lors du chargement des données transformées: {e}\")"
   ]
  },
  {
   "cell_type": "markdown",
   "metadata": {},
   "source": [
    "## 5. Préparation des données pour le chargement\n",
    "\n",
    "Préparation des données pour le chargement dans la base de données MySQL."
   ]
  },
  {
   "cell_type": "code",
   "execution_count": 21,
   "metadata": {},
   "outputs": [
    {
     "name": "stdout",
     "output_type": "stream",
     "text": [
      "Préparation des données pour le chargement...\n",
      "Table calendrier préparée pour le chargement.\n",
      "Table pandemie préparée pour le chargement.\n",
      "\n",
      "Préparation des données pour le chargement terminée avec succès!\n"
     ]
    }
   ],
   "source": [
    "# Préparation des données pour le chargement\n",
    "print(\"Préparation des données pour le chargement...\")\n",
    "\n",
    "try:\n",
    "    # Préparation de la table calendrier\n",
    "    if \"calendrier\" in tables:\n",
    "        # Conversion des dates en chaînes de caractères au format MySQL\n",
    "        tables[\"calendrier\"][\"date\"] = tables[\"calendrier\"][\"date\"].dt.strftime(\"%Y-%m-%d\")\n",
    "        print(\"Table calendrier préparée pour le chargement.\")\n",
    "    \n",
    "    # Préparation de la table pandemie\n",
    "    if \"pandemie\" in tables:\n",
    "        # Conversion des dates en chaînes de caractères au format MySQL\n",
    "        tables[\"pandemie\"][\"date_debut\"] = tables[\"pandemie\"][\"date_debut\"].dt.strftime(\"%Y-%m-%d\")\n",
    "        print(\"Table pandemie préparée pour le chargement.\")\n",
    "    \n",
    "    print(\"\\nPréparation des données pour le chargement terminée avec succès!\")\n",
    "except Exception as e:\n",
    "    print(f\"Erreur lors de la préparation des données pour le chargement: {e}\")"
   ]
  },
  {
   "cell_type": "markdown",
   "metadata": {},
   "source": [
    "## 6. Fonction de vidage des tables\n",
    "\n",
    "Définition d'une fonction pour vider les tables de la base de données."
   ]
  },
  {
   "cell_type": "code",
   "execution_count": 22,
   "metadata": {},
   "outputs": [],
   "source": [
    "def vider_tables(connexion, curseur, tables):\n",
    "    \"\"\"\n",
    "    Vide les tables de la base de données si elles existent.\n",
    "    \n",
    "    Args:\n",
    "        connexion: Connexion à la base de données.\n",
    "        curseur: Curseur de la base de données.\n",
    "        tables (list): Liste des noms des tables à vider.\n",
    "        \n",
    "    Returns:\n",
    "        bool: True si les tables ont été vidées avec succès, False sinon.\n",
    "    \"\"\"\n",
    "    try:\n",
    "        # Désactivation temporaire des contraintes de clé étrangère\n",
    "        curseur.execute(\"SET FOREIGN_KEY_CHECKS = 0;\")\n",
    "        \n",
    "        # Récupérer la liste des tables existantes\n",
    "        curseur.execute(\"SHOW TABLES;\")\n",
    "        tables_existantes = [table[0] for table in curseur.fetchall()]\n",
    "        print(f\"Tables existantes: {tables_existantes}\")\n",
    "        \n",
    "        # Vidage des tables dans l'ordre inverse des dépendances\n",
    "        for table in tables:\n",
    "            if table in tables_existantes:\n",
    "                print(f\"Vidage de la table {table}...\")\n",
    "                curseur.execute(f\"TRUNCATE TABLE {table};\")\n",
    "                print(f\"Table {table} vidée avec succès.\")\n",
    "            else:\n",
    "                print(f\"La table {table} n'existe pas, création nécessaire.\")\n",
    "        \n",
    "        # Réactivation des contraintes de clé étrangère\n",
    "        curseur.execute(\"SET FOREIGN_KEY_CHECKS = 1;\")\n",
    "        \n",
    "        # Validation des modifications\n",
    "        connexion.commit()\n",
    "        print(\"\\nOpération de vidage terminée.\")\n",
    "        return True\n",
    "    \n",
    "    except Error as e:\n",
    "        print(f\"Erreur lors du vidage des tables: {e}\")\n",
    "        return False"
   ]
  },
  {
   "cell_type": "markdown",
   "metadata": {},
   "source": [
    "## 7. Fonction de chargement des données\n",
    "\n",
    "Définition d'une fonction pour charger les données dans la base de données."
   ]
  },
  {
   "cell_type": "code",
   "execution_count": 26,
   "metadata": {},
   "outputs": [],
   "source": [
    "def charger_donnees(connexion, curseur, table_nom, table_df, taille_lot=1000):\n",
    "    try:\n",
    "        # Récupération des noms des colonnes\n",
    "        colonnes = list(table_df.columns)\n",
    "        print(f\"Colonnes de la table {table_nom}: {colonnes}\")\n",
    "        \n",
    "        # Vérification des valeurs nulles\n",
    "        for colonne in colonnes:\n",
    "            null_count = table_df[colonne].isnull().sum()\n",
    "            if null_count > 0:\n",
    "                print(f\"ATTENTION: La colonne {colonne} contient {null_count} valeurs nulles!\")\n",
    "        \n",
    "        # Préparation de la requête d'insertion\n",
    "        placeholders = \", \".join([\"%s\"] * len(colonnes))\n",
    "        requete = f\"INSERT INTO {table_nom} ({', '.join(colonnes)}) VALUES ({placeholders})\"\n",
    "        \n",
    "        # Conversion des données en liste de tuples\n",
    "        donnees = [tuple(x) for x in table_df.to_numpy()]\n",
    "        \n",
    "        # Affichage des premières lignes pour débogage\n",
    "        print(f\"Exemple de données à charger dans {table_nom} (3 premières lignes):\")\n",
    "        for i in range(min(3, len(donnees))):\n",
    "            print(donnees[i])\n",
    "        \n",
    "        # Chargement des données par lots\n",
    "        print(f\"Chargement de {len(donnees)} lignes dans la table {table_nom}...\")\n",
    "        \n",
    "        for i in range(0, len(donnees), taille_lot):\n",
    "            lot = donnees[i:i + taille_lot]\n",
    "            try:\n",
    "                curseur.executemany(requete, lot)\n",
    "                connexion.commit()\n",
    "                print(f\"Lot {i // taille_lot + 1}/{(len(donnees) + taille_lot - 1) // taille_lot} chargé: {len(lot)} lignes\")\n",
    "            except Error as e:\n",
    "                print(f\"Erreur lors du chargement du lot {i // taille_lot + 1}: {e}\")\n",
    "                # Afficher la première ligne qui pose problème\n",
    "                if len(lot) > 0:\n",
    "                    print(f\"Première ligne du lot problématique: {lot[0]}\")\n",
    "                raise\n",
    "        \n",
    "        print(f\"Données chargées dans la table {table_nom} avec succès.\")\n",
    "        return True\n",
    "    \n",
    "    except Error as e:\n",
    "        print(f\"Erreur lors du chargement des données dans la table {table_nom}: {e}\")\n",
    "        return False"
   ]
  },
  {
   "cell_type": "markdown",
   "metadata": {},
   "source": [
    "## 8. Chargement des données dans la base de données\n",
    "\n",
    "Chargement des données dans la base de données MySQL."
   ]
  },
  {
   "cell_type": "code",
   "execution_count": null,
   "metadata": {},
   "outputs": [
    {
     "name": "stdout",
     "output_type": "stream",
     "text": [
      "Chargement des données dans la base de données...\n",
      "Connexion à la base de données 'epiviz' établie avec succès.\n",
      "Création des tables...\n",
      "Table calendrier créée.\n",
      "Table localisation créée.\n",
      "Erreur lors du chargement des données dans la base de données: 1005 (HY000): Can't create table `epiviz`.`pandemie` (errno: 150 \"Foreign key constraint is incorrectly formed\")\n"
     ]
    }
   ],
   "source": [
    "try:\n",
    "    # Connexion à la base de données\n",
    "    connexion, curseur = connecter_mysql()\n",
    "    \n",
    "    if connexion is not None and curseur is not None:\n",
    "        # Désactivation des contraintes de clé étrangère\n",
    "        curseur.execute(\"SET FOREIGN_KEY_CHECKS = 0;\")\n",
    "        \n",
    "        # Suppression des tables si elles existent déjà\n",
    "        print(\"Suppression des tables existantes...\")\n",
    "        curseur.execute(\"DROP TABLE IF EXISTS donnees;\")\n",
    "        curseur.execute(\"DROP TABLE IF EXISTS calendrier;\")\n",
    "        curseur.execute(\"DROP TABLE IF EXISTS localisation;\")\n",
    "        curseur.execute(\"DROP TABLE IF EXISTS pandemie;\")\n",
    "        \n",
    "        # Création des tables SANS contraintes de clé étrangère\n",
    "        print(\"Création des tables sans contraintes de clé étrangère...\")\n",
    "        \n",
    "        # Table calendrier\n",
    "        curseur.execute(\"\"\"\n",
    "        CREATE TABLE IF NOT EXISTS calendrier (\n",
    "            id_date INT PRIMARY KEY,\n",
    "            date DATE NOT NULL,\n",
    "            jour INT NOT NULL,\n",
    "            mois INT NOT NULL,\n",
    "            annee INT NOT NULL\n",
    "        ) ENGINE=InnoDB;\n",
    "        \"\"\")\n",
    "        print(\"Table calendrier créée.\")\n",
    "        \n",
    "        # Table localisation\n",
    "        curseur.execute(\"\"\"\n",
    "        CREATE TABLE IF NOT EXISTS localisation (\n",
    "            id_localisation INT PRIMARY KEY,\n",
    "            pays VARCHAR(100) NOT NULL,\n",
    "            continent VARCHAR(50)\n",
    "        ) ENGINE=InnoDB;\n",
    "        \"\"\")\n",
    "        print(\"Table localisation créée.\")\n",
    "        \n",
    "        # Table pandemie\n",
    "        curseur.execute(\"\"\"\n",
    "        CREATE TABLE IF NOT EXISTS pandemie (\n",
    "            id_pandemie INT PRIMARY KEY,\n",
    "            nom_pandemie VARCHAR(50) NOT NULL,\n",
    "            description TEXT,\n",
    "            date_debut DATE\n",
    "        ) ENGINE=InnoDB;\n",
    "        \"\"\")\n",
    "        print(\"Table pandemie créée.\")\n",
    "        \n",
    "        # Table donnees sans contraintes de clé étrangère\n",
    "        curseur.execute(\"\"\"\n",
    "        CREATE TABLE IF NOT EXISTS donnees (\n",
    "            id_donnees INT PRIMARY KEY,\n",
    "            id_date INT NOT NULL,\n",
    "            id_localisation INT NOT NULL,\n",
    "            id_pandemie INT NOT NULL,\n",
    "            cas_confirmes INT NOT NULL,\n",
    "            deces INT NOT NULL\n",
    "        ) ENGINE=InnoDB;\n",
    "        \"\"\")\n",
    "        print(\"Table donnees créée.\")\n",
    "        \n",
    "        # Validation des modifications\n",
    "        connexion.commit()\n",
    "        print(\"Toutes les tables ont été créées avec succès.\")\n",
    "        \n",
    "        # Chargement des données dans l'ordre des dépendances\n",
    "        ordre_chargement = [\"calendrier\", \"localisation\", \"pandemie\", \"donnees\"]\n",
    "        \n",
    "        for table_nom in ordre_chargement:\n",
    "            if table_nom in tables:\n",
    "                print(f\"\\nChargement des données dans la table {table_nom}...\")\n",
    "                # Conversion des types NumPy en types Python standard\n",
    "                for colonne in tables[table_nom].select_dtypes(include=[np.number]).columns:\n",
    "                    tables[table_nom][colonne] = tables[table_nom][colonne].astype(float).astype(int)\n",
    "                \n",
    "                # Chargement des données\n",
    "                charger_donnees(connexion, curseur, table_nom, tables[table_nom])\n",
    "        \n",
    "        # Ajout des contraintes de clé étrangère après le chargement des données\n",
    "        print(\"\\nAjout des contraintes de clé étrangère...\")\n",
    "        try:\n",
    "            curseur.execute(\"\"\"\n",
    "            ALTER TABLE donnees \n",
    "            ADD CONSTRAINT fk_donnees_calendrier FOREIGN KEY (id_date) REFERENCES calendrier(id_date),\n",
    "            ADD CONSTRAINT fk_donnees_localisation FOREIGN KEY (id_localisation) REFERENCES localisation(id_localisation),\n",
    "            ADD CONSTRAINT fk_donnees_pandemie FOREIGN KEY (id_pandemie) REFERENCES pandemie(id_pandemie);\n",
    "            \"\"\")\n",
    "            print(\"Contraintes de clé étrangère ajoutées avec succès.\")\n",
    "        except Error as e:\n",
    "            print(f\"Erreur lors de l'ajout des contraintes de clé étrangère: {e}\")\n",
    "        \n",
    "        # Réactivation des contraintes de clé étrangère\n",
    "        curseur.execute(\"SET FOREIGN_KEY_CHECKS = 1;\")\n",
    "        connexion.commit()\n",
    "        \n",
    "        print(\"\\nToutes les données ont été chargées avec succès.\")\n",
    "        \n",
    "        # Fermeture de la connexion\n",
    "        curseur.close()\n",
    "        connexion.close()\n",
    "        print(\"Connexion fermée.\")\n",
    "    else:\n",
    "        print(\"Impossible d'établir une connexion à la base de données.\")\n",
    "except Exception as e:\n",
    "    print(f\"Erreur lors du chargement des données dans la base de données: {e}\")"
   ]
  },
  {
   "cell_type": "markdown",
   "metadata": {},
   "source": [
    "## Conclusion\n",
    "\n",
    "Dans ce notebook, nous avons réalisé le chargement des données transformées dans la base de données MySQL. Les principales opérations ont été :\n",
    "\n",
    "1. Chargement des données transformées depuis les fichiers CSV\n",
    "2. Préparation des données pour le chargement dans la base de données\n",
    "3. Vidage des tables existantes\n",
    "4. Chargement des données dans la base de données dans l'ordre des dépendances\n",
    "\n",
    "Les données sont maintenant chargées dans la base de données MySQL et prêtes à être utilisées pour l'analyse et la visualisation. La prochaine étape consiste à vérifier les données chargées, ce qui sera réalisé dans le prochain notebook."
   ]
  }
 ],
 "metadata": {
  "kernelspec": {
   "display_name": "Python 3",
   "language": "python",
   "name": "python3"
  },
  "language_info": {
   "codemirror_mode": {
    "name": "ipython",
    "version": 3
   },
   "file_extension": ".py",
   "mimetype": "text/x-python",
   "name": "python",
   "nbconvert_exporter": "python",
   "pygments_lexer": "ipython3",
   "version": "3.12.4"
  }
 },
 "nbformat": 4,
 "nbformat_minor": 4
}
